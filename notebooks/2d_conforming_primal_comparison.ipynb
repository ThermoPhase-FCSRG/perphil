{
 "cells": [
  {
   "cell_type": "markdown",
   "id": "9b57d633",
   "metadata": {},
   "source": [
    "# 2D Conforming Primal Pressure-Only DPP: Solver Comparison"
   ]
  },
  {
   "cell_type": "code",
   "execution_count": null,
   "id": "c3604fd7",
   "metadata": {},
   "outputs": [],
   "source": [
    "import time\n",
    "import matplotlib.pyplot as plt\n",
    "import firedrake as fd\n",
    "from perphil.forms.spaces import create_function_spaces\n",
    "from perphil.forms.dpp import dpp_form, dpp_delayed_form\n",
    "from perphil.mesh.builtin import create_mesh\n",
    "from perphil.models.dpp.parameters import DPPParameters\n",
    "from perphil.solvers.solver import solve_dpp\n",
    "from perphil.solvers.conditioning import (\n",
    "    get_matrix_data_from_form,\n",
    "    calculate_condition_number,\n",
    ")\n",
    "from perphil.utils.manufactured_solutions import interpolate_exact"
   ]
  },
  {
   "cell_type": "code",
   "execution_count": null,
   "id": "a13bc42c",
   "metadata": {},
   "outputs": [],
   "source": [
    "# Problem parameters\n",
    "dpp_params = DPPParameters(k1=1.0, k2=1e-2, beta=1.0, mu=1.0)\n",
    "# Mesh resolution\n",
    "nx, ny = 50, 50\n",
    "mesh = create_mesh(nx, ny, quadrilateral=True)\n",
    "# Create function spaces (pressure only)\n",
    "U, V = create_function_spaces(mesh, velocity_deg=1, pressure_deg=1)\n",
    "W = V * V"
   ]
  },
  {
   "cell_type": "code",
   "execution_count": null,
   "id": "48e0c61c",
   "metadata": {},
   "outputs": [],
   "source": [
    "# Manufactured solutions\n",
    "u1_exact, p1_exact, u2_exact, p2_exact = interpolate_exact(mesh, U, V, dpp_params)\n",
    "# Dirichlet BCs\n",
    "bc1 = fd.DirichletBC(W.sub(0), p1_exact, \"on_boundary\")\n",
    "bc2 = fd.DirichletBC(W.sub(1), p2_exact, \"on_boundary\")\n",
    "bcs = [bc1, bc2]"
   ]
  },
  {
   "cell_type": "code",
   "execution_count": null,
   "id": "0972d851",
   "metadata": {},
   "outputs": [],
   "source": [
    "# Assemble forms\n",
    "a, L = dpp_form(W, dpp_params)\n",
    "problem = (a, L, bcs, W)"
   ]
  },
  {
   "cell_type": "code",
   "execution_count": null,
   "id": "83e7fc58",
   "metadata": {},
   "outputs": [],
   "source": [
    "# Condition number analysis\n",
    "matrix_data = get_matrix_data_from_form(a, bcs)\n",
    "cond_mono = calculate_condition_number(\n",
    "    matrix_data.sparse_csr_data, num_of_factors=matrix_data.number_of_dofs - 1\n",
    ")\n",
    "print(f\"Monolithic system condition number: {cond_mono}\")\n",
    "\n",
    "# Initial zero fields for delayed form\n",
    "p1_zero = fd.Function(V)\n",
    "p1_zero.interpolate(fd.Constant(0.0))\n",
    "p2_zero = fd.Function(V)\n",
    "p2_zero.interpolate(fd.Constant(0.0))\n",
    "\n",
    "# Build bilinear forms for scale-splitting\n",
    "forms_macro, forms_micro = dpp_delayed_form(V, V, dpp_params, p1_zero, p2_zero)\n",
    "a_macro, _ = forms_macro\n",
    "a_micro, _ = forms_micro\n",
    "\n",
    "# Conditioning for macro and micro systems\n",
    "matrix_data_macro = get_matrix_data_from_form(a_macro, [bc1])\n",
    "matrix_data_micro = get_matrix_data_from_form(a_micro, [bc2])\n",
    "cond_macro = calculate_condition_number(\n",
    "    matrix_data_macro.sparse_csr_data,\n",
    "    num_of_factors=matrix_data_macro.number_of_dofs - 1,\n",
    ")\n",
    "cond_micro = calculate_condition_number(\n",
    "    matrix_data_micro.sparse_csr_data,\n",
    "    num_of_factors=matrix_data_micro.number_of_dofs - 1,\n",
    ")\n",
    "print(f\"Macro system condition number: {cond_macro}\")\n",
    "print(f\"Micro system condition number: {cond_micro}\")"
   ]
  },
  {
   "cell_type": "code",
   "execution_count": null,
   "id": "7e6d2411",
   "metadata": {},
   "outputs": [],
   "source": [
    "# Solver strategies and timings\n",
    "strategies = {\n",
    "    \"Direct LU (MUMPS)\": {},\n",
    "    \"GMRES scale-split\": {...},\n",
    "    \"GMRES no split\": {...},\n",
    "}\n",
    "results = {}\n",
    "for name, opts in strategies.items():\n",
    "    t0 = time.time()\n",
    "    sol = solve_dpp(*problem, solver_parameters=opts)  # perphil API call\n",
    "    t1 = time.time()\n",
    "    results[name] = t1 - t0\n",
    "results"
   ]
  },
  {
   "cell_type": "code",
   "execution_count": null,
   "id": "b4d7c33c",
   "metadata": {},
   "outputs": [],
   "source": [
    "# Plot timings\n",
    "names = list(results.keys())\n",
    "times = list(results.values())\n",
    "plt.bar(names, times)\n",
    "plt.ylabel(\"Time (s)\")\n",
    "plt.xticks(rotation=45, ha=\"right\")\n",
    "plt.title(\"Solver comparison: 2D Conforming Primal DPP\")\n",
    "plt.show()"
   ]
  }
 ],
 "metadata": {
  "language_info": {
   "name": "python"
  }
 },
 "nbformat": 4,
 "nbformat_minor": 5
}

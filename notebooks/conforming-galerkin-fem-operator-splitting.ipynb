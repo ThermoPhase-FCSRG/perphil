{
 "cells": [
  {
   "cell_type": "code",
   "execution_count": 11,
   "id": "57281704",
   "metadata": {},
   "outputs": [],
   "source": [
    "import os\n",
    "\n",
    "os.environ[\"OMP_NUM_THREADS\"] = \"1\"\n",
    "\n",
    "import firedrake as fd"
   ]
  },
  {
   "cell_type": "markdown",
   "id": "b9521468",
   "metadata": {},
   "source": [
    "For convenience, we define the operators from Firedrake:"
   ]
  },
  {
   "cell_type": "code",
   "execution_count": 12,
   "id": "6f4e0f97",
   "metadata": {},
   "outputs": [],
   "source": [
    "grad = fd.grad\n",
    "div = fd.div\n",
    "dx = fd.dx\n",
    "inner = fd.inner"
   ]
  },
  {
   "cell_type": "code",
   "execution_count": 13,
   "id": "73fe2aed",
   "metadata": {},
   "outputs": [],
   "source": [
    "def exact_solutions_expressions(mesh):\n",
    "    x, y = fd.SpatialCoordinate(mesh)\n",
    "    p_exact = fd.sin(2 * fd.pi * x) * fd.sin(2 * fd.pi * y)  # noqa: F405\n",
    "    flux_exact = -grad(p_exact)\n",
    "    return p_exact, flux_exact\n",
    "\n",
    "\n",
    "def calculate_exact_solution(\n",
    "    mesh, pressure_family, velocity_family, pressure_degree, velocity_degree, is_hdiv_space=False\n",
    "):\n",
    "    \"\"\"\n",
    "    For compatibility only. Should be removed.\n",
    "    \"\"\"\n",
    "    return exact_solutions_expressions(mesh)"
   ]
  },
  {
   "cell_type": "code",
   "execution_count": 14,
   "id": "7021bba2",
   "metadata": {},
   "outputs": [],
   "source": [
    "# Mesh\n",
    "num_elements_x, num_elements_y = 10, 10\n",
    "enable_run_on_quads = False\n",
    "mesh = fd.UnitSquareMesh(\n",
    "    num_elements_x,\n",
    "    num_elements_y,\n",
    "    quadrilateral=enable_run_on_quads,\n",
    ")\n",
    "\n",
    "# Approximation\n",
    "degree = 1\n",
    "\n",
    "# Function space declaration\n",
    "pressure_family = \"CG\"\n",
    "velocity_family = \"CG\"\n",
    "U = fd.VectorFunctionSpace(mesh, velocity_family, degree)\n",
    "V = fd.FunctionSpace(mesh, pressure_family, degree)\n",
    "\n",
    "# Trial and test functions\n",
    "u = fd.TrialFunction(V)\n",
    "v = fd.TestFunction(V)\n",
    "\n",
    "# Exact solution\n",
    "exact_solution, sigma_e = calculate_exact_solution(\n",
    "    mesh, pressure_family, velocity_family, degree + 3, degree + 3\n",
    ")\n",
    "\n",
    "# Forcing function\n",
    "f = div(-grad(exact_solution))\n",
    "\n",
    "# Dirichlet BCs\n",
    "bcs = fd.DirichletBC(V, fd.project(exact_solution, V), \"on_boundary\")\n",
    "\n",
    "# Variational form\n",
    "a = inner(grad(u), grad(v)) * dx\n",
    "L = f * v * dx\n",
    "\n",
    "# Solving the problem\n",
    "solver_parameters = {\n",
    "    \"mat_type\": \"aij\",\n",
    "    \"ksp_type\": \"preonly\",\n",
    "    \"pc_type\": \"lu\",\n",
    "    \"pc_factor_mat_solver_type\": \"mumps\",\n",
    "}\n",
    "solution = fd.Function(V)\n",
    "problem = fd.LinearVariationalProblem(a, L, solution, bcs=bcs, constant_jacobian=False)\n",
    "solver = fd.LinearVariationalSolver(problem, solver_parameters=solver_parameters)\n",
    "solver.solve()\n",
    "\n",
    "# Retrieving the solution\n",
    "p_h = solution\n",
    "sigma_h = fd.project(-grad(p_h), U)"
   ]
  }
 ],
 "metadata": {
  "kernelspec": {
   "display_name": "venv-firedrake",
   "language": "python",
   "name": "python3"
  },
  "language_info": {
   "codemirror_mode": {
    "name": "ipython",
    "version": 3
   },
   "file_extension": ".py",
   "mimetype": "text/x-python",
   "name": "python",
   "nbconvert_exporter": "python",
   "pygments_lexer": "ipython3"
  }
 },
 "nbformat": 4,
 "nbformat_minor": 5
}
